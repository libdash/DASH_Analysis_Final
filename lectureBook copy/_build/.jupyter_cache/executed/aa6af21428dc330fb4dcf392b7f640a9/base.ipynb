{
 "cells": [
  {
   "cell_type": "code",
   "execution_count": 1,
   "id": "cc9ba7ca",
   "metadata": {},
   "outputs": [
    {
     "name": "stdout",
     "output_type": "stream",
     "text": [
      "This is the first set\n",
      "0    17\n",
      "1     2\n",
      "2     3\n",
      "3     7\n",
      "4     8\n",
      "5     9\n",
      "Name: col1, dtype: int64\n",
      "This is the second set\n",
      "0     4\n",
      "1     5\n",
      "2     6\n",
      "3    56\n",
      "4     7\n",
      "5     4\n",
      "Name: col2, dtype: int64\n"
     ]
    }
   ],
   "source": [
    "import pandas as pd\n",
    "data = {'col1': [17,2,3,7,8,9],\n",
    "        'col2': [4,5,6,56,7,4]\n",
    "       }\n",
    "df = pd.DataFrame(data)\n",
    "setOne = df['col1']\n",
    "setTwo = df['col2']\n",
    "print(\"This is the first set\")\n",
    "print(setOne)\n",
    "print(\"This is the second set\")\n",
    "print(setTwo)"
   ]
  },
  {
   "cell_type": "code",
   "execution_count": 2,
   "id": "d3efd373",
   "metadata": {},
   "outputs": [
    {
     "data": {
      "text/plain": [
       "Ttest_indResult(statistic=-0.6851489991021901, pvalue=0.5088194974869784)"
      ]
     },
     "execution_count": 2,
     "metadata": {},
     "output_type": "execute_result"
    }
   ],
   "source": [
    "import scipy.stats as stats\n",
    "\n",
    "stats.ttest_ind(setOne, setTwo)"
   ]
  }
 ],
 "metadata": {
  "kernelspec": {
   "display_name": "Python 3 (ipykernel)",
   "language": "python",
   "name": "python3"
  },
  "language_info": {
   "codemirror_mode": {
    "name": "ipython",
    "version": 3
   },
   "file_extension": ".py",
   "mimetype": "text/x-python",
   "name": "python",
   "nbconvert_exporter": "python",
   "pygments_lexer": "ipython3",
   "version": "3.11.4"
  }
 },
 "nbformat": 4,
 "nbformat_minor": 5
}