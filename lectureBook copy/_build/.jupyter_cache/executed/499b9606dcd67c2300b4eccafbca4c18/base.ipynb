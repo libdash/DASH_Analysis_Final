{
 "cells": [
  {
   "cell_type": "code",
   "execution_count": 1,
   "id": "e459d1df",
   "metadata": {},
   "outputs": [
    {
     "name": "stdout",
     "output_type": "stream",
     "text": [
      "0    17\n",
      "1     2\n",
      "2     3\n",
      "3     7\n",
      "4     8\n",
      "5     9\n",
      "Name: col1, dtype: int64\n",
      "0     4\n",
      "1     5\n",
      "2     6\n",
      "3    56\n",
      "4     7\n",
      "5     4\n",
      "Name: col2, dtype: int64\n"
     ]
    }
   ],
   "source": [
    "import pandas as pd\n",
    "data = {'col1': [17,2,3,7,8,9],\n",
    "        'col2': [4,5,6,56,7,4]\n",
    "       }\n",
    "df = pd.DataFrame(data)\n",
    "setOne = df['col1']\n",
    "setTwo = df['col2']\n",
    "print(setOne)\n",
    "print(setTwo)\n"
   ]
  },
  {
   "cell_type": "code",
   "execution_count": 2,
   "id": "2b81c73c",
   "metadata": {},
   "outputs": [
    {
     "data": {
      "text/plain": [
       "F_onewayResult(statistic=0.4694291509707332, pvalue=0.5088194974869783)"
      ]
     },
     "execution_count": 2,
     "metadata": {},
     "output_type": "execute_result"
    }
   ],
   "source": [
    "import scipy.stats as stats\n",
    "stats.f_oneway(setOne, setTwo)"
   ]
  },
  {
   "cell_type": "code",
   "execution_count": null,
   "id": "abc36b98",
   "metadata": {},
   "outputs": [],
   "source": []
  }
 ],
 "metadata": {
  "kernelspec": {
   "display_name": "Python 3 (ipykernel)",
   "language": "python",
   "name": "python3"
  },
  "language_info": {
   "codemirror_mode": {
    "name": "ipython",
    "version": 3
   },
   "file_extension": ".py",
   "mimetype": "text/x-python",
   "name": "python",
   "nbconvert_exporter": "python",
   "pygments_lexer": "ipython3",
   "version": "3.11.4"
  }
 },
 "nbformat": 4,
 "nbformat_minor": 5
}