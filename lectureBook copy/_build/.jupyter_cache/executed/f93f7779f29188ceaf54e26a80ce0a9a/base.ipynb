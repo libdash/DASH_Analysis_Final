{
 "cells": [
  {
   "cell_type": "code",
   "execution_count": 1,
   "id": "f6d444ff",
   "metadata": {},
   "outputs": [
    {
     "name": "stdout",
     "output_type": "stream",
     "text": [
      "PearsonRResult(statistic=0.8779422950546811, pvalue=0.021437912074708007)\n"
     ]
    }
   ],
   "source": [
    "import pandas as pd\n",
    "from scipy import stats\n",
    "data = {'col1': [1,12,3,7,8,9],\n",
    "        'col2': [4,23,9,12,8,17]\n",
    "       }\n",
    "df = pd.DataFrame(data)\n",
    "setOne = df['col1']\n",
    "setTwo = df['col2']\n",
    "\n",
    "\n",
    "result = stats.pearsonr(setOne, setTwo)\n",
    "print(result)"
   ]
  },
  {
   "cell_type": "code",
   "execution_count": null,
   "id": "f17189b0",
   "metadata": {},
   "outputs": [],
   "source": []
  }
 ],
 "metadata": {
  "kernelspec": {
   "display_name": "Python 3 (ipykernel)",
   "language": "python",
   "name": "python3"
  },
  "language_info": {
   "codemirror_mode": {
    "name": "ipython",
    "version": 3
   },
   "file_extension": ".py",
   "mimetype": "text/x-python",
   "name": "python",
   "nbconvert_exporter": "python",
   "pygments_lexer": "ipython3",
   "version": "3.11.4"
  }
 },
 "nbformat": 4,
 "nbformat_minor": 5
}