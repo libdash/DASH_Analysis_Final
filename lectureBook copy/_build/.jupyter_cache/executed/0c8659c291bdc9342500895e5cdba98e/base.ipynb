{
 "cells": [
  {
   "cell_type": "code",
   "execution_count": 1,
   "id": "2b38acb2",
   "metadata": {},
   "outputs": [
    {
     "name": "stdout",
     "output_type": "stream",
     "text": [
      "The values in a are ['A' 'B']\n",
      "The values in b are ['X' 'Y' 'Z']\n",
      "This is a matrix of how many combinations of each exist\n",
      "[[2 3 0]\n",
      " [1 0 4]]\n"
     ]
    }
   ],
   "source": [
    "import scipy.stats.contingency as sp\n",
    "\n",
    "a = ['A', 'B', 'A', 'A', 'B', 'B', 'A', 'A', 'B', 'B']\n",
    "x = ['X', 'X', 'X', 'Y', 'Z', 'Z', 'Y', 'Y', 'Z', 'Z']\n",
    "\n",
    "result = sp.crosstab(a, x)\n",
    "\n",
    "avals, xvals = result.elements\n",
    "\n",
    "print(\"The values in a are\", avals)\n",
    "\n",
    "print(\"The values in b are\", xvals)\n",
    "\n",
    "print(\"This is a matrix of how many combinations of each exist\")\n",
    "print(result.count)\n"
   ]
  }
 ],
 "metadata": {
  "kernelspec": {
   "display_name": "Python 3 (ipykernel)",
   "language": "python",
   "name": "python3"
  },
  "language_info": {
   "codemirror_mode": {
    "name": "ipython",
    "version": 3
   },
   "file_extension": ".py",
   "mimetype": "text/x-python",
   "name": "python",
   "nbconvert_exporter": "python",
   "pygments_lexer": "ipython3",
   "version": "3.11.4"
  }
 },
 "nbformat": 4,
 "nbformat_minor": 5
}