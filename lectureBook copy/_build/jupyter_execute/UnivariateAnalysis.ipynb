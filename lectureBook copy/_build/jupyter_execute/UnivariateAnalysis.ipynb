{
 "cells": [
  {
   "cell_type": "markdown",
   "id": "62d99385",
   "metadata": {},
   "source": [
    "# {index}`Univariate Analysis <single : Univariate Analysis>`\n",
    "\n",
    "Univariate analysis is the most fundamental type of statistical data analysis technique. The data in this case only has one variable.\n",
    "\n",
    "These are some examples of each and the pandas function to perform them. Each function has an axis parameter to determine whether you want to perform your analysis o---\n",
    "jupytext:\n",
    "  text_representation:\n",
    "    extension: .md\n",
    "    format_name: myst\n",
    "kernelspec:\n",
    "  display_name: Python 3\n",
    "  language: python\n",
    "  name: python3\n",
    "---n the rows or columns. Numeric only will only use numeric columns if set as true. it is by default false. Dropna set to true will not consider counts of NAN/NAT.\n",
    "\n",
    "### Mode\n"
   ]
  },
  {
   "cell_type": "code",
   "execution_count": 25,
   "id": "71e6f512",
   "metadata": {},
   "outputs": [
    {
     "name": "stdout",
     "output_type": "stream",
     "text": [
      "   0\n",
      "0  6\n"
     ]
    }
   ],
   "source": [
    "import pandas as df\n",
    "df = df.DataFrame([2,5,6,3,80,6,4,7])\n",
    "mode = df.mode(axis= \"rows\", numeric_only=True)\n",
    "print(mode)"
   ]
  },
  {
   "cell_type": "markdown",
   "id": "3821c5b9",
   "metadata": {},
   "source": [
    "### Median"
   ]
  },
  {
   "cell_type": "code",
   "execution_count": 27,
   "id": "a76bfc1a",
   "metadata": {},
   "outputs": [
    {
     "name": "stdout",
     "output_type": "stream",
     "text": [
      "0    5.5\n",
      "dtype: float64\n"
     ]
    }
   ],
   "source": [
    "median = df.median(axis='rows', numeric_only=True)\n",
    "print(median)"
   ]
  },
  {
   "cell_type": "markdown",
   "id": "02c2ffb6",
   "metadata": {},
   "source": [
    "### Mean"
   ]
  },
  {
   "cell_type": "code",
   "execution_count": 28,
   "id": "20993df1",
   "metadata": {},
   "outputs": [
    {
     "name": "stdout",
     "output_type": "stream",
     "text": [
      "0    14.125\n",
      "dtype: float64\n"
     ]
    }
   ],
   "source": [
    "mean = df.mean(axis = \"rows\")\n",
    "print(mean)"
   ]
  },
  {
   "cell_type": "markdown",
   "id": "b10af0b7",
   "metadata": {},
   "source": [
    "### Standard Deviation"
   ]
  },
  {
   "cell_type": "code",
   "execution_count": 30,
   "id": "25012d54",
   "metadata": {},
   "outputs": [
    {
     "name": "stdout",
     "output_type": "stream",
     "text": [
      "0    26.669605\n",
      "dtype: float64\n"
     ]
    }
   ],
   "source": [
    "std = df.std(axis='rows', numeric_only=True)\n",
    "print(std)"
   ]
  },
  {
   "cell_type": "markdown",
   "id": "46e74a2a",
   "metadata": {},
   "source": [
    "The describe() function gives a lot of info on each column including mean, standard deviation, as well as the min, 25%, 50%, 75%, and max."
   ]
  },
  {
   "cell_type": "code",
   "execution_count": 31,
   "id": "fb069ad2",
   "metadata": {},
   "outputs": [
    {
     "data": {
      "text/html": [
       "<div>\n",
       "<style scoped>\n",
       "    .dataframe tbody tr th:only-of-type {\n",
       "        vertical-align: middle;\n",
       "    }\n",
       "\n",
       "    .dataframe tbody tr th {\n",
       "        vertical-align: top;\n",
       "    }\n",
       "\n",
       "    .dataframe thead th {\n",
       "        text-align: right;\n",
       "    }\n",
       "</style>\n",
       "<table border=\"1\" class=\"dataframe\">\n",
       "  <thead>\n",
       "    <tr style=\"text-align: right;\">\n",
       "      <th></th>\n",
       "      <th>0</th>\n",
       "    </tr>\n",
       "  </thead>\n",
       "  <tbody>\n",
       "    <tr>\n",
       "      <th>count</th>\n",
       "      <td>8.000000</td>\n",
       "    </tr>\n",
       "    <tr>\n",
       "      <th>mean</th>\n",
       "      <td>14.125000</td>\n",
       "    </tr>\n",
       "    <tr>\n",
       "      <th>std</th>\n",
       "      <td>26.669605</td>\n",
       "    </tr>\n",
       "    <tr>\n",
       "      <th>min</th>\n",
       "      <td>2.000000</td>\n",
       "    </tr>\n",
       "    <tr>\n",
       "      <th>25%</th>\n",
       "      <td>3.750000</td>\n",
       "    </tr>\n",
       "    <tr>\n",
       "      <th>50%</th>\n",
       "      <td>5.500000</td>\n",
       "    </tr>\n",
       "    <tr>\n",
       "      <th>75%</th>\n",
       "      <td>6.250000</td>\n",
       "    </tr>\n",
       "    <tr>\n",
       "      <th>max</th>\n",
       "      <td>80.000000</td>\n",
       "    </tr>\n",
       "  </tbody>\n",
       "</table>\n",
       "</div>"
      ],
      "text/plain": [
       "               0\n",
       "count   8.000000\n",
       "mean   14.125000\n",
       "std    26.669605\n",
       "min     2.000000\n",
       "25%     3.750000\n",
       "50%     5.500000\n",
       "75%     6.250000\n",
       "max    80.000000"
      ]
     },
     "execution_count": 31,
     "metadata": {},
     "output_type": "execute_result"
    }
   ],
   "source": [
    "df.describe()"
   ]
  }
 ],
 "metadata": {
  "kernelspec": {
   "display_name": "Python 3 (ipykernel)",
   "language": "python",
   "name": "python3"
  },
  "language_info": {
   "codemirror_mode": {
    "name": "ipython",
    "version": 3
   },
   "file_extension": ".py",
   "mimetype": "text/x-python",
   "name": "python",
   "nbconvert_exporter": "python",
   "pygments_lexer": "ipython3",
   "version": "3.11.4"
  }
 },
 "nbformat": 4,
 "nbformat_minor": 5
}