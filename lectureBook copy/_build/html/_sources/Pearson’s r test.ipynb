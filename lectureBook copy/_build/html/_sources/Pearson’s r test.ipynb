{
 "cells": [
  {
   "cell_type": "markdown",
   "id": "9f745fd9",
   "metadata": {},
   "source": [
    "# Pearson's r test\n",
    "\n",
    "[Pearson's r test](https://docs.scipy.org/doc/scipy/reference/generated/scipy.stats.pearsonr.html) or the Pearson correlation is the most common way of measuring a linear correlation. It is performed on 2 independent variables and uses the numerical values provided in the data, unlike Spearman's test, which provides each entry in the data with a rank. It is the parametric version of Spearmans'r test. The Pearson correlation coefficient or \"r\" is a number between –1 and +1 that measures the strength and direction of the relationship between two variables.  The equation used to calculate the Pearson correlation is shown below.\n",
    "\n",
    "\n",
    "$\\frac{n(\\sum xy) - (\\sum x))(\\sum y)}{\\sqrt{(n\\sum x^{2} - (\\sum x)^{2})(n\\sum y^{2} - (\\sum y)^{2})}}$\n",
    "\n",
    "You can extract columns as such from a pre-defined pandas data frame."
   ]
  },
  {
   "cell_type": "code",
   "execution_count": 5,
   "id": "f6d444ff",
   "metadata": {},
   "outputs": [
    {
     "name": "stdout",
     "output_type": "stream",
     "text": [
      "PearsonRResult(statistic=0.8779422950546811, pvalue=0.021437912074708007)\n"
     ]
    }
   ],
   "source": [
    "import pandas as pd\n",
    "from scipy import stats\n",
    "data = {'col1': [1,12,3,7,8,9],\n",
    "        'col2': [4,23,9,12,8,17]\n",
    "       }\n",
    "df = pd.DataFrame(data)\n",
    "setOne = df['col1']\n",
    "setTwo = df['col2']\n",
    "\n",
    "\n",
    "result = stats.pearsonr(setOne, setTwo)\n",
    "print(result)"
   ]
  },
  {
   "cell_type": "markdown",
   "id": "25b3830b",
   "metadata": {},
   "source": [
    "## Understanding the output\n",
    "\n",
    "The test will return a value between -1 and 1 labeled as a statistic. The sign indicates whether the variables are positively or negatively correlated and the magnitude of the value refers to the intensity of the correlation. 0 would mean there is no correlation.\n",
    "\n",
    "The second value labeled as pvalue is a statistical measurement used to validate a hypothesis against observed data. The lower it is the more statistically significant your r-statistic."
   ]
  },
  {
   "cell_type": "code",
   "execution_count": null,
   "id": "f17189b0",
   "metadata": {},
   "outputs": [],
   "source": []
  }
 ],
 "metadata": {
  "kernelspec": {
   "display_name": "Python 3 (ipykernel)",
   "language": "python",
   "name": "python3"
  },
  "language_info": {
   "codemirror_mode": {
    "name": "ipython",
    "version": 3
   },
   "file_extension": ".py",
   "mimetype": "text/x-python",
   "name": "python",
   "nbconvert_exporter": "python",
   "pygments_lexer": "ipython3",
   "version": "3.11.4"
  }
 },
 "nbformat": 4,
 "nbformat_minor": 5
}
