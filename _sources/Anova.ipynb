{
 "cells": [
  {
   "cell_type": "markdown",
   "id": "908b2f35",
   "metadata": {},
   "source": [
    "# {index}`Anova <single: Anova>`\n",
    "\n",
    "[Analysis of variance](https://www.geeksforgeeks.org/how-to-perform-a-one-way-anova-in-python/) (ANOVA) is a statistical technique used to check if the means of two or more groups are significantly different from each other. One-way ANOVA can be performed on 2 or more independent variables and is sometimes referred to as a t-test if there are only 2 independent variables on which the analysis is being performed. Otherwise, it is referred to as an F-test.\n",
    "\n",
    "This analysis can be performed using Scipy. The function we will be using is called f_oneway().\n",
    "\n",
    "The parameters for this function include\n",
    "any number of samples in an array format as such (sample1,sample2,sample3...). The axis can also be referred to as either 0 or 1 referring to rows or columns.\n",
    "\n",
    "You can extract columns as such from a pre-defined pandas data frame."
   ]
  },
  {
   "cell_type": "code",
   "execution_count": 1,
   "id": "e459d1df",
   "metadata": {},
   "outputs": [
    {
     "name": "stdout",
     "output_type": "stream",
     "text": [
      "0    17\n",
      "1     2\n",
      "2     3\n",
      "3     7\n",
      "4     8\n",
      "5     9\n",
      "Name: col1, dtype: int64\n",
      "0     4\n",
      "1     5\n",
      "2     6\n",
      "3    56\n",
      "4     7\n",
      "5     4\n",
      "Name: col2, dtype: int64\n"
     ]
    }
   ],
   "source": [
    "import pandas as pd\n",
    "data = {'col1': [17,2,3,7,8,9],\n",
    "        'col2': [4,5,6,56,7,4]\n",
    "       }\n",
    "df = pd.DataFrame(data)\n",
    "setOne = df['col1']\n",
    "setTwo = df['col2']\n",
    "print(setOne)\n",
    "print(setTwo)\n"
   ]
  },
  {
   "cell_type": "code",
   "execution_count": 3,
   "id": "2b81c73c",
   "metadata": {},
   "outputs": [
    {
     "data": {
      "text/plain": [
       "F_onewayResult(statistic=0.4694291509707332, pvalue=0.5088194974869783)"
      ]
     },
     "execution_count": 3,
     "metadata": {},
     "output_type": "execute_result"
    }
   ],
   "source": [
    "import scipy.stats as stats\n",
    "stats.f_oneway(setOne, setTwo)"
   ]
  },
  {
   "cell_type": "markdown",
   "id": "85cdc11b",
   "metadata": {},
   "source": [
    "### Understanding the output\n",
    "\n",
    "The first value labled as **statistic** is the computed f-statistic of the test.\n",
    "\n",
    "The second value labled as **pvalue** is a statistical measurement used to validate a hypothesis against observed data. The lower it is the more statistically significant the f-statistic.\n"
   ]
  },
  {
   "cell_type": "code",
   "execution_count": null,
   "id": "abc36b98",
   "metadata": {},
   "outputs": [],
   "source": []
  }
 ],
 "metadata": {
  "kernelspec": {
   "display_name": "Python 3 (ipykernel)",
   "language": "python",
   "name": "python3"
  },
  "language_info": {
   "codemirror_mode": {
    "name": "ipython",
    "version": 3
   },
   "file_extension": ".py",
   "mimetype": "text/x-python",
   "name": "python",
   "nbconvert_exporter": "python",
   "pygments_lexer": "ipython3",
   "version": "3.11.4"
  }
 },
 "nbformat": 4,
 "nbformat_minor": 5
}
