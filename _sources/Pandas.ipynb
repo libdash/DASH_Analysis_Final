{
 "cells": [
  {
   "cell_type": "markdown",
   "id": "69a0014a",
   "metadata": {},
   "source": [
    "# {index}`Basics with Pandas <single: Basics with Pandas>`\n",
    "---\n",
    "\n",
    "## What is a dataframe?\n",
    "\n",
    "A data frame is a 2-D array of entries along with their corresponding labels. This can be visualized as something similar to an Excel sheet. For our usage, the rows will usually represent unique entries while the columns will represent individual attributes.\n",
    "\n",
    "## How to make your own data frame\n",
    "\n",
    "[Pandas](https://www.w3schools.com/python/pandas/pandas_getting_started.asp) is the library that makes it the easiest to develop your own data frames. You will generally be dealing with CSV files for data analysis, although you can also create your own if your data is formatted as a dictionary or an array.\n",
    "\n",
    "- CSV to data frame"
   ]
  },
  {
   "cell_type": "code",
   "execution_count": null,
   "id": "894e30be",
   "metadata": {},
   "outputs": [],
   "source": [
    "import pandas as pd  \n",
    "#You will wanna first uplaod your csv to your project folder withing your IDE\n",
    "# You can then convert it into a data frame using the read_csv() function\n",
    "df = pd.read_csv(\"name.csv\")  \n",
    "   \n",
    "# output the dataframe \n",
    "print(df)"
   ]
  },
  {
   "cell_type": "markdown",
   "id": "5dde800f",
   "metadata": {},
   "source": [
    "- Dictionary to data frame"
   ]
  },
  {
   "cell_type": "code",
   "execution_count": 8,
   "id": "93afe5dd",
   "metadata": {},
   "outputs": [
    {
     "name": "stdout",
     "output_type": "stream",
     "text": [
      "   col1  col2\n",
      "0     1     4\n",
      "1     2     5\n",
      "2     3     6\n"
     ]
    }
   ],
   "source": [
    "import pandas as pd\n",
    "\n",
    "#Format your data as a dictionary\n",
    "data = {'col1': [1,2,3],\n",
    "        'col2': [4,5,6]\n",
    "}\n",
    "#create data frame\n",
    "df = pd.DataFrame(data = data)\n",
    "print(df)"
   ]
  },
  {
   "cell_type": "markdown",
   "id": "17f159e7",
   "metadata": {},
   "source": [
    "- List to data frame"
   ]
  },
  {
   "cell_type": "code",
   "execution_count": 9,
   "id": "da6c5daf",
   "metadata": {},
   "outputs": [
    {
     "name": "stdout",
     "output_type": "stream",
     "text": [
      "        0\n",
      "0     fav\n",
      "1   tutor\n",
      "2  coding\n",
      "3  skills\n"
     ]
    }
   ],
   "source": [
    "import pandas as pd\n",
    "# Create your list\n",
    "lst = ['fav', 'tutor', 'coding', 'skills']\n",
    "#create data frame\n",
    "df = pd.DataFrame(lst)\n",
    "print(df)\n"
   ]
  },
  {
   "cell_type": "markdown",
   "id": "8b8a03ba",
   "metadata": {},
   "source": [
    "## Data frame manipulation \n",
    "---\n",
    "\n",
    "### Removing unncssacsry Colounms\n",
    " \n",
    "It is necessary to delete entries and columns to make your data frame neater and more concise. Try to remove all the data that is not useful to you from your data set before you continue with any sort of analysis.\n"
   ]
  },
  {
   "cell_type": "code",
   "execution_count": 56,
   "id": "569f8142",
   "metadata": {},
   "outputs": [
    {
     "name": "stdout",
     "output_type": "stream",
     "text": [
      "   entry1  entry3\n",
      "0       1       0\n",
      "1       2       0\n",
      "2       3       0\n"
     ]
    }
   ],
   "source": [
    "import pandas as pd\n",
    "\n",
    "data = {'entry1': [1,2,3],\n",
    "        'entry2': [4,5,6],\n",
    "        'entry3': [7,8,9]\n",
    "       }    \n",
    "df = pd.DataFrame(data)\n",
    "\n",
    "\n",
    "#This will permanantly drop entry3\n",
    "\n",
    "df = df.drop( columns=['entry2'])\n",
    "print(df)\n"
   ]
  },
  {
   "cell_type": "markdown",
   "id": "f8b54cee",
   "metadata": {},
   "source": [
    "If you want to remove a row, address the \"index\" in place of \"columns\""
   ]
  },
  {
   "cell_type": "markdown",
   "id": "78f8c2c6",
   "metadata": {},
   "source": [
    "You Can check if entry3 has been removed correctly uisng:"
   ]
  },
  {
   "cell_type": "code",
   "execution_count": 53,
   "id": "702b010d",
   "metadata": {},
   "outputs": [
    {
     "data": {
      "text/plain": [
       "False"
      ]
     },
     "execution_count": 53,
     "metadata": {},
     "output_type": "execute_result"
    }
   ],
   "source": [
    "'entry2' in df.columns"
   ]
  },
  {
   "cell_type": "markdown",
   "id": "662aaff6",
   "metadata": {},
   "source": [
    "If removed it should read false as shown. You can also view all your axes to check what has been correctly altered as such:"
   ]
  },
  {
   "cell_type": "code",
   "execution_count": 54,
   "id": "554a4512",
   "metadata": {},
   "outputs": [
    {
     "data": {
      "text/html": [
       "<div>\n",
       "<style scoped>\n",
       "    .dataframe tbody tr th:only-of-type {\n",
       "        vertical-align: middle;\n",
       "    }\n",
       "\n",
       "    .dataframe tbody tr th {\n",
       "        vertical-align: top;\n",
       "    }\n",
       "\n",
       "    .dataframe thead th {\n",
       "        text-align: right;\n",
       "    }\n",
       "</style>\n",
       "<table border=\"1\" class=\"dataframe\">\n",
       "  <thead>\n",
       "    <tr style=\"text-align: right;\">\n",
       "      <th></th>\n",
       "      <th>entry1</th>\n",
       "      <th>entry3</th>\n",
       "    </tr>\n",
       "  </thead>\n",
       "  <tbody>\n",
       "    <tr>\n",
       "      <th>count</th>\n",
       "      <td>3.0</td>\n",
       "      <td>3.0</td>\n",
       "    </tr>\n",
       "    <tr>\n",
       "      <th>mean</th>\n",
       "      <td>2.0</td>\n",
       "      <td>8.0</td>\n",
       "    </tr>\n",
       "    <tr>\n",
       "      <th>std</th>\n",
       "      <td>1.0</td>\n",
       "      <td>1.0</td>\n",
       "    </tr>\n",
       "    <tr>\n",
       "      <th>min</th>\n",
       "      <td>1.0</td>\n",
       "      <td>7.0</td>\n",
       "    </tr>\n",
       "    <tr>\n",
       "      <th>25%</th>\n",
       "      <td>1.5</td>\n",
       "      <td>7.5</td>\n",
       "    </tr>\n",
       "    <tr>\n",
       "      <th>50%</th>\n",
       "      <td>2.0</td>\n",
       "      <td>8.0</td>\n",
       "    </tr>\n",
       "    <tr>\n",
       "      <th>75%</th>\n",
       "      <td>2.5</td>\n",
       "      <td>8.5</td>\n",
       "    </tr>\n",
       "    <tr>\n",
       "      <th>max</th>\n",
       "      <td>3.0</td>\n",
       "      <td>9.0</td>\n",
       "    </tr>\n",
       "  </tbody>\n",
       "</table>\n",
       "</div>"
      ],
      "text/plain": [
       "       entry1  entry3\n",
       "count     3.0     3.0\n",
       "mean      2.0     8.0\n",
       "std       1.0     1.0\n",
       "min       1.0     7.0\n",
       "25%       1.5     7.5\n",
       "50%       2.0     8.0\n",
       "75%       2.5     8.5\n",
       "max       3.0     9.0"
      ]
     },
     "execution_count": 54,
     "metadata": {},
     "output_type": "execute_result"
    }
   ],
   "source": [
    "df.describe()"
   ]
  },
  {
   "cell_type": "markdown",
   "id": "8b57c6d9",
   "metadata": {},
   "source": [
    "### Removing incomplete data\n",
    "\n",
    "Sometimes your data may have rows with missing or unknown attributes, such rows can cause a problem while you are trying to anilize certain attributes. This can be prevented by removing all rows that have missing data implied with the usage of NumPy's NaN or NaT using the dropna() function."
   ]
  },
  {
   "cell_type": "code",
   "execution_count": 7,
   "id": "5a684ca5",
   "metadata": {},
   "outputs": [
    {
     "name": "stdout",
     "output_type": "stream",
     "text": [
      "This is the original data frame\n",
      "       name        toy       born\n",
      "0    Alfred        NaN        NaT\n",
      "1    Batman  Batmobile 1940-04-25\n",
      "2  Catwoman   Bullwhip        NaT\n",
      "\n",
      "This is the reduced data frame\n",
      "     name        toy       born\n",
      "1  Batman  Batmobile 1940-04-25\n"
     ]
    }
   ],
   "source": [
    "import pandas as pd\n",
    "import numpy as np\n",
    "\n",
    "df = pd.DataFrame({\"name\": ['Alfred', 'Batman', 'Catwoman'],\n",
    "                   \"toy\": [np.nan, 'Batmobile', 'Bullwhip'],\n",
    "                   \"born\": [pd.NaT, pd.Timestamp(\"1940-04-25\"),\n",
    "                            pd.NaT]})\n",
    "print(\"This is the original data frame\")\n",
    "print(df)\n",
    "\n",
    "print(\"\\nThis is the reduced data frame\")\n",
    "df = df.dropna()\n",
    "print(df)\n",
    "\n"
   ]
  },
  {
   "cell_type": "markdown",
   "id": "17e228f7",
   "metadata": {},
   "source": [
    "### Identifying data types\n",
    "\n",
    "It is good practice to check the data types in your data set before beginning analysis to ensure you don't run into invalid data type related issues going onwards. The best and most ideal way to do this is using the dtypes() function"
   ]
  },
  {
   "cell_type": "code",
   "execution_count": 117,
   "id": "75d4cdbe",
   "metadata": {},
   "outputs": [
    {
     "name": "stdout",
     "output_type": "stream",
     "text": [
      "float              float64\n",
      "int                  int64\n",
      "datetime    datetime64[ns]\n",
      "string              object\n",
      "dtype: object\n"
     ]
    }
   ],
   "source": [
    "# Example data set\n",
    "dict = {'float': 7.869,\n",
    "        'int': 10,\n",
    "        'datetime': pd.Timestamp('20180310'),\n",
    "        'string': \"Hello\"}\n",
    "df = pd.DataFrame(dict, index = [1,2,3,4])\n",
    "# providing in index is sometimes neccsary when conerting a dictionary to a data frame\n",
    "print(df.dtypes)\n"
   ]
  },
  {
   "cell_type": "markdown",
   "id": "60b8da62",
   "metadata": {},
   "source": [
    "### Converting data types"
   ]
  },
  {
   "cell_type": "code",
   "execution_count": 98,
   "id": "295fc836",
   "metadata": {},
   "outputs": [
    {
     "name": "stdout",
     "output_type": "stream",
     "text": [
      "   A  B  C\n",
      "0  1  4  7\n",
      "1  2  5  8\n",
      "2  3  6  9\n",
      "\n",
      "\n",
      "Original Data Types\n",
      "A    object\n",
      "B    object\n",
      "C    object\n",
      "dtype: object\n",
      "\n",
      "Converted Data Types\n",
      "     A  B  C\n",
      "0  1.0  4  7\n",
      "1  2.0  5  8\n",
      "2  3.0  6  9\n",
      "\n",
      "\n",
      "A    float64\n",
      "B      int64\n",
      "C      int64\n",
      "dtype: object\n"
     ]
    }
   ],
   "source": [
    "import pandas as pd\n",
    "\n",
    "# Create and print DataFrame\n",
    "df = pd.DataFrame({\n",
    "   'A': ['1', '2', '3'],\n",
    "   'B': ['4', '5', '6'],\n",
    "   'C': ['7', '8', '9']\n",
    "})\n",
    "print(df)\n",
    "\n",
    "# Print data types of each column in DataFrame\n",
    "print(\"\\n\")\n",
    "print(\"Original Data Types\")\n",
    "\n",
    "print(df.dtypes)\n",
    "\n",
    "# Change column A's values to floats\n",
    "df['A'] = df['A'].astype(float)\n",
    "\n",
    "# Change column B and C's values to integers\n",
    "df = df.astype({'B': int, 'C': int})\n",
    "\n",
    "\n",
    "# Print altered DataFrame\n",
    "print(\"\\nConverted Data Types\")\n",
    "print(df)\n",
    "# Print data types of each column in DataFrame\n",
    "print(\"\\n\")\n",
    "print(df.dtypes)"
   ]
  },
  {
   "cell_type": "markdown",
   "id": "e9cd6a06",
   "metadata": {},
   "source": [
    "### Renaming Colounms\n",
    "\n",
    "Renaming columns and rows can easily be done using the rename() function."
   ]
  },
  {
   "cell_type": "code",
   "execution_count": 41,
   "id": "85c15048",
   "metadata": {},
   "outputs": [
    {
     "data": {
      "text/html": [
       "<div>\n",
       "<style scoped>\n",
       "    .dataframe tbody tr th:only-of-type {\n",
       "        vertical-align: middle;\n",
       "    }\n",
       "\n",
       "    .dataframe tbody tr th {\n",
       "        vertical-align: top;\n",
       "    }\n",
       "\n",
       "    .dataframe thead th {\n",
       "        text-align: right;\n",
       "    }\n",
       "</style>\n",
       "<table border=\"1\" class=\"dataframe\">\n",
       "  <thead>\n",
       "    <tr style=\"text-align: right;\">\n",
       "      <th></th>\n",
       "      <th>a</th>\n",
       "      <th>c</th>\n",
       "    </tr>\n",
       "  </thead>\n",
       "  <tbody>\n",
       "    <tr>\n",
       "      <th>count</th>\n",
       "      <td>3.0</td>\n",
       "      <td>3.0</td>\n",
       "    </tr>\n",
       "    <tr>\n",
       "      <th>mean</th>\n",
       "      <td>2.0</td>\n",
       "      <td>5.0</td>\n",
       "    </tr>\n",
       "    <tr>\n",
       "      <th>std</th>\n",
       "      <td>1.0</td>\n",
       "      <td>1.0</td>\n",
       "    </tr>\n",
       "    <tr>\n",
       "      <th>min</th>\n",
       "      <td>1.0</td>\n",
       "      <td>4.0</td>\n",
       "    </tr>\n",
       "    <tr>\n",
       "      <th>25%</th>\n",
       "      <td>1.5</td>\n",
       "      <td>4.5</td>\n",
       "    </tr>\n",
       "    <tr>\n",
       "      <th>50%</th>\n",
       "      <td>2.0</td>\n",
       "      <td>5.0</td>\n",
       "    </tr>\n",
       "    <tr>\n",
       "      <th>75%</th>\n",
       "      <td>2.5</td>\n",
       "      <td>5.5</td>\n",
       "    </tr>\n",
       "    <tr>\n",
       "      <th>max</th>\n",
       "      <td>3.0</td>\n",
       "      <td>6.0</td>\n",
       "    </tr>\n",
       "  </tbody>\n",
       "</table>\n",
       "</div>"
      ],
      "text/plain": [
       "         a    c\n",
       "count  3.0  3.0\n",
       "mean   2.0  5.0\n",
       "std    1.0  1.0\n",
       "min    1.0  4.0\n",
       "25%    1.5  4.5\n",
       "50%    2.0  5.0\n",
       "75%    2.5  5.5\n",
       "max    3.0  6.0"
      ]
     },
     "execution_count": 41,
     "metadata": {},
     "output_type": "execute_result"
    }
   ],
   "source": [
    "import pandas as pd\n",
    "df = pd.DataFrame({\"A\": [1, 2, 3], \"B\": [4, 5, 6]})\n",
    "df = df.rename(columns={\"A\": \"a\", \"B\": \"c\"})\n",
    "\n",
    "df.describe()\n"
   ]
  },
  {
   "cell_type": "markdown",
   "id": "eec356fd",
   "metadata": {},
   "source": [
    "### Combining Data Frames\n",
    "If you want to combine diffrent data frames the usage of the concat() function is ideal."
   ]
  },
  {
   "cell_type": "code",
   "execution_count": 45,
   "id": "9b95cac7",
   "metadata": {},
   "outputs": [
    {
     "name": "stdout",
     "output_type": "stream",
     "text": [
      "      A    B    C    D\n",
      "0    A0   B0   C0   D0\n",
      "1    A1   B1   C1   D1\n",
      "2    A2   B2   C2   D2\n",
      "3    A3   B3   C3   D3\n",
      "4    A4   B4   C4   D4\n",
      "5    A5   B5   C5   D5\n",
      "6    A6   B6   C6   D6\n",
      "7    A7   B7   C7   D7\n",
      "8    A8   B8   C8   D8\n",
      "9    A9   B9   C9   D9\n",
      "10  A10  B10  C10  D10\n",
      "11  A11  B11  C11  D11\n"
     ]
    }
   ],
   "source": [
    "df1 = pd.DataFrame(\n",
    "    {\n",
    "        \"A\": [\"A0\", \"A1\", \"A2\", \"A3\"],\n",
    "        \"B\": [\"B0\", \"B1\", \"B2\", \"B3\"],\n",
    "        \"C\": [\"C0\", \"C1\", \"C2\", \"C3\"],\n",
    "        \"D\": [\"D0\", \"D1\", \"D2\", \"D3\"],\n",
    "    },\n",
    "    index=[0, 1, 2, 3],\n",
    ")\n",
    "\n",
    "\n",
    "df2 = pd.DataFrame(\n",
    "    {\n",
    "        \"A\": [\"A4\", \"A5\", \"A6\", \"A7\"],\n",
    "        \"B\": [\"B4\", \"B5\", \"B6\", \"B7\"],\n",
    "        \"C\": [\"C4\", \"C5\", \"C6\", \"C7\"],\n",
    "        \"D\": [\"D4\", \"D5\", \"D6\", \"D7\"],\n",
    "    },\n",
    "    index=[4, 5, 6, 7],\n",
    ")\n",
    "\n",
    "\n",
    "df3 = pd.DataFrame(\n",
    "    {\n",
    "        \"A\": [\"A8\", \"A9\", \"A10\", \"A11\"],\n",
    "        \"B\": [\"B8\", \"B9\", \"B10\", \"B11\"],\n",
    "        \"C\": [\"C8\", \"C9\", \"C10\", \"C11\"],\n",
    "        \"D\": [\"D8\", \"D9\", \"D10\", \"D11\"],\n",
    "    },\n",
    "    index=[8, 9, 10, 11],\n",
    ")\n",
    "\n",
    "\n",
    "frames = [df1, df2, df3]\n",
    "\n",
    "result = pd.concat(frames)\n",
    "\n",
    "print(result)"
   ]
  },
  {
   "cell_type": "markdown",
   "id": "81654499",
   "metadata": {},
   "source": [
    "## Other Usefull Functions\n",
    "\n",
    "### Viewing data\n",
    "\n",
    "|Abbrevation|colour|\n",
    "|:----:|:--------:|\n",
    "|df.head | df.tail() will provide you with the first 5 rows by defualt unless a number is inserted in the paramter |\n",
    "|df.tail | df.tail() will provide you with the last 5 rows by defualt unless a number is inserted in the paramter |\n",
    "|display(df) | With the use of Ipython.display's function, display(), you can view your data frame in tabular form |\n"
   ]
  },
  {
   "cell_type": "code",
   "execution_count": 24,
   "id": "5cf8458b",
   "metadata": {},
   "outputs": [
    {
     "name": "stdout",
     "output_type": "stream",
     "text": [
      "df.head():\n",
      "   A  B  C\n",
      "0  1  5  7\n",
      "1  2  6  8\n",
      "\n",
      "df.tail():\n",
      "   A  B   C\n",
      "1  2  6   8\n",
      "2  3  7   9\n",
      "3  4  8  10\n",
      "\n",
      "display(df):\n"
     ]
    },
    {
     "data": {
      "text/html": [
       "<div>\n",
       "<style scoped>\n",
       "    .dataframe tbody tr th:only-of-type {\n",
       "        vertical-align: middle;\n",
       "    }\n",
       "\n",
       "    .dataframe tbody tr th {\n",
       "        vertical-align: top;\n",
       "    }\n",
       "\n",
       "    .dataframe thead th {\n",
       "        text-align: right;\n",
       "    }\n",
       "</style>\n",
       "<table border=\"1\" class=\"dataframe\">\n",
       "  <thead>\n",
       "    <tr style=\"text-align: right;\">\n",
       "      <th></th>\n",
       "      <th>A</th>\n",
       "      <th>B</th>\n",
       "      <th>C</th>\n",
       "    </tr>\n",
       "  </thead>\n",
       "  <tbody>\n",
       "    <tr>\n",
       "      <th>0</th>\n",
       "      <td>1</td>\n",
       "      <td>5</td>\n",
       "      <td>7</td>\n",
       "    </tr>\n",
       "    <tr>\n",
       "      <th>1</th>\n",
       "      <td>2</td>\n",
       "      <td>6</td>\n",
       "      <td>8</td>\n",
       "    </tr>\n",
       "    <tr>\n",
       "      <th>2</th>\n",
       "      <td>3</td>\n",
       "      <td>7</td>\n",
       "      <td>9</td>\n",
       "    </tr>\n",
       "    <tr>\n",
       "      <th>3</th>\n",
       "      <td>4</td>\n",
       "      <td>8</td>\n",
       "      <td>10</td>\n",
       "    </tr>\n",
       "  </tbody>\n",
       "</table>\n",
       "</div>"
      ],
      "text/plain": [
       "   A  B   C\n",
       "0  1  5   7\n",
       "1  2  6   8\n",
       "2  3  7   9\n",
       "3  4  8  10"
      ]
     },
     "metadata": {},
     "output_type": "display_data"
    }
   ],
   "source": [
    "from IPython.display import display\n",
    "df = pd.DataFrame({\n",
    "   'A': ['1', '2', '3',\"4\"],\n",
    "   'B': ['5', '6', '7',\"8\"],\n",
    "   'C': ['7', '8', '9',\"10\"],\n",
    "\n",
    "})\n",
    "print(\"df.head():\")\n",
    "head = df.head(2) #df. head() will provide you with the first 5 rows by defualt unless a number is inserted in the paramter\n",
    "print(head)\n",
    "print(\"\\ndf.tail():\")\n",
    "tail = df.tail(3) #df.tail() works in the same way although with the last 5 rows\n",
    "print(tail)\n",
    "print(\"\\ndisplay(df):\")\n",
    "display(df)\n"
   ]
  },
  {
   "cell_type": "markdown",
   "id": "8941ab0c",
   "metadata": {},
   "source": [
    "### Removing duplicates\n"
   ]
  },
  {
   "cell_type": "code",
   "execution_count": 131,
   "id": "3807d8bb",
   "metadata": {},
   "outputs": [
    {
     "data": {
      "text/html": [
       "<div>\n",
       "<style scoped>\n",
       "    .dataframe tbody tr th:only-of-type {\n",
       "        vertical-align: middle;\n",
       "    }\n",
       "\n",
       "    .dataframe tbody tr th {\n",
       "        vertical-align: top;\n",
       "    }\n",
       "\n",
       "    .dataframe thead th {\n",
       "        text-align: right;\n",
       "    }\n",
       "</style>\n",
       "<table border=\"1\" class=\"dataframe\">\n",
       "  <thead>\n",
       "    <tr style=\"text-align: right;\">\n",
       "      <th></th>\n",
       "      <th>A</th>\n",
       "      <th>B</th>\n",
       "    </tr>\n",
       "  </thead>\n",
       "  <tbody>\n",
       "    <tr>\n",
       "      <th>0</th>\n",
       "      <td>1</td>\n",
       "      <td>apple</td>\n",
       "    </tr>\n",
       "    <tr>\n",
       "      <th>1</th>\n",
       "      <td>2</td>\n",
       "      <td>banana</td>\n",
       "    </tr>\n",
       "    <tr>\n",
       "      <th>3</th>\n",
       "      <td>3</td>\n",
       "      <td>orange</td>\n",
       "    </tr>\n",
       "    <tr>\n",
       "      <th>4</th>\n",
       "      <td>4</td>\n",
       "      <td>apple</td>\n",
       "    </tr>\n",
       "    <tr>\n",
       "      <th>5</th>\n",
       "      <td>6</td>\n",
       "      <td>banana</td>\n",
       "    </tr>\n",
       "    <tr>\n",
       "      <th>6</th>\n",
       "      <td>7</td>\n",
       "      <td>orange</td>\n",
       "    </tr>\n",
       "  </tbody>\n",
       "</table>\n",
       "</div>"
      ],
      "text/plain": [
       "   A       B\n",
       "0  1   apple\n",
       "1  2  banana\n",
       "3  3  orange\n",
       "4  4   apple\n",
       "5  6  banana\n",
       "6  7  orange"
      ]
     },
     "execution_count": 131,
     "metadata": {},
     "output_type": "execute_result"
    }
   ],
   "source": [
    "df = pd.DataFrame({'A': [1, 2, 2, 3, 4, 6, 7, 7],\n",
    "                   'B': ['apple', 'banana', 'banana', 'orange', 'apple', 'banana', 'orange', 'apple']\n",
    "                  })\n",
    "df.drop_duplicates(subset = \"A\") \n",
    "# The chosen subset is the attribute that will be traced for any repetion"
   ]
  },
  {
   "cell_type": "markdown",
   "id": "e553e916",
   "metadata": {},
   "source": [
    "### Viewing dateframe size"
   ]
  },
  {
   "cell_type": "code",
   "execution_count": 139,
   "id": "9ed3ec73",
   "metadata": {},
   "outputs": [
    {
     "data": {
      "text/plain": [
       "(4, 3)"
      ]
     },
     "execution_count": 139,
     "metadata": {},
     "output_type": "execute_result"
    }
   ],
   "source": [
    "df = pd.DataFrame({\n",
    "   'A': ['1', '2', '3',\"4\"],\n",
    "   'B': ['5', '6', '7',\"8\"],\n",
    "   'C': ['7', '8', '9',\"10\"],\n",
    "})\n",
    "df.shape"
   ]
  },
  {
   "cell_type": "code",
   "execution_count": null,
   "id": "ba042993",
   "metadata": {},
   "outputs": [],
   "source": []
  }
 ],
 "metadata": {
  "kernelspec": {
   "display_name": "Python 3 (ipykernel)",
   "language": "python",
   "name": "python3"
  },
  "language_info": {
   "codemirror_mode": {
    "name": "ipython",
    "version": 3
   },
   "file_extension": ".py",
   "mimetype": "text/x-python",
   "name": "python",
   "nbconvert_exporter": "python",
   "pygments_lexer": "ipython3",
   "version": "3.11.4"
  }
 },
 "nbformat": 4,
 "nbformat_minor": 5
}
