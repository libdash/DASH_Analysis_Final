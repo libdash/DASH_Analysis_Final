{
 "cells": [
  {
   "cell_type": "markdown",
   "id": "7d9ebd7b",
   "metadata": {},
   "source": [
    "# Spearson's r test\n",
    "\n",
    "[Spearson's r test](https://docs.scipy.org/doc/scipy/reference/generated/scipy.stats.spearmanr.html) or Spearman's rank correlation test is one of the ways of measuring a linear correlation. It is performed on 2 independent variables and uses the assigned rank of each value in the data provided rather than the actual value. The rank of each entry is determined based on how it compares to all of the other entries. It is the non-parametric version of Pearson's r test. The Spearman correlation coefficient or \"r\" is a number between –1 and 1 that measures the strength and direction of the relationship between two variables.  The equation used to calculate the Spearman correlation is the same as that of the Pearson correlation test and is shown below.\n",
    "\n",
    "$\\frac{n(\\sum xy) - (\\sum x))(\\sum y)}{\\sqrt{(n\\sum x^{2} - (\\sum x)^{2})(n\\sum y^{2} - (\\sum y)^{2})}}$\n",
    "\n",
    "You can extract columns as such from a pre-defined pandas data frame."
   ]
  },
  {
   "cell_type": "code",
   "execution_count": 2,
   "id": "4259a2fe",
   "metadata": {},
   "outputs": [
    {
     "name": "stdout",
     "output_type": "stream",
     "text": [
      "SignificanceResult(statistic=0.8285714285714287, pvalue=0.04156268221574334)\n"
     ]
    }
   ],
   "source": [
    "import pandas as pd\n",
    "from scipy import stats\n",
    "data = {'col1': [1,12,3,7,8,9],\n",
    "        'col2': [4,23,9,12,8,17]\n",
    "       }\n",
    "df = pd.DataFrame(data)\n",
    "setOne = df['col1']\n",
    "setTwo = df['col2']\n",
    "\n",
    "\n",
    "result = stats.spearmanr(setOne, setTwo)\n",
    "print(result)"
   ]
  },
  {
   "cell_type": "markdown",
   "id": "7c962ce5",
   "metadata": {},
   "source": [
    "## Understanding the output\n",
    "\n",
    "The test will return a value between -1 and 1 labeled as a statistic. The sign indicates whether the variables are positively or negatively correlated and the magnitude of the value refers to the intensity of the correlation. 0 would mean there is no correlation.\n",
    "\n",
    "The second value labeled as pvalue is a statistical measurement used to validate a hypothesis against observed data. The lower it is the more statistically significant your r-statistic."
   ]
  },
  {
   "cell_type": "code",
   "execution_count": null,
   "id": "40d93861",
   "metadata": {},
   "outputs": [],
   "source": []
  }
 ],
 "metadata": {
  "kernelspec": {
   "display_name": "Python 3 (ipykernel)",
   "language": "python",
   "name": "python3"
  },
  "language_info": {
   "codemirror_mode": {
    "name": "ipython",
    "version": 3
   },
   "file_extension": ".py",
   "mimetype": "text/x-python",
   "name": "python",
   "nbconvert_exporter": "python",
   "pygments_lexer": "ipython3",
   "version": "3.11.4"
  }
 },
 "nbformat": 4,
 "nbformat_minor": 5
}
