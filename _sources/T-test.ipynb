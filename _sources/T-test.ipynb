{
 "cells": [
  {
   "cell_type": "markdown",
   "id": "04e5290b",
   "metadata": {},
   "source": [
    "# {index}`T-test <single: T-test>`\n",
    "\n",
    "The [t-test](https://docs.scipy.org/doc/scipy/reference/generated/scipy.stats.ttest_ind.html), also known as t-statistic or sometimes t-distribution, is a popular statistical tool used to test differences between the means (averages) of two groups.\n",
    "\n",
    "The value returned known as a t-value, or t-score, is a ratio of the difference between the mean of the two sample sets and the variation that exists within them.\n",
    "\n",
    "You can extract columns as such from a pre-defined pandas data frame.---\n",
    "jupytext:\n",
    "  text_representation:\n",
    "    extension: .md\n",
    "    format_name: myst\n",
    "kernelspec:\n",
    "  display_name: Python 3\n",
    "  language: python\n",
    "  name: python3\n",
    "------\n",
    "jupytext:\n",
    "  text_representation:\n",
    "    extension: .md\n",
    "    format_name: myst\n",
    "kernelspec:\n",
    "  display_name: Python 3\n",
    "  language: python\n",
    "  name: python3\n",
    "---"
   ]
  },
  {
   "cell_type": "code",
   "execution_count": 1,
   "id": "cc9ba7ca",
   "metadata": {},
   "outputs": [
    {
     "name": "stdout",
     "output_type": "stream",
     "text": [
      "This is the first set\n",
      "0    17\n",
      "1     2\n",
      "2     3\n",
      "3     7\n",
      "4     8\n",
      "5     9\n",
      "Name: col1, dtype: int64\n",
      "This is the second set\n",
      "0     4\n",
      "1     5\n",
      "2     6\n",
      "3    56\n",
      "4     7\n",
      "5     4\n",
      "Name: col2, dtype: int64\n"
     ]
    }
   ],
   "source": [
    "import pandas as pd\n",
    "data = {'col1': [17,2,3,7,8,9],\n",
    "        'col2': [4,5,6,56,7,4]\n",
    "       }\n",
    "df = pd.DataFrame(data)\n",
    "setOne = df['col1']\n",
    "setTwo = df['col2']\n",
    "print(\"This is the first set\")\n",
    "print(setOne)\n",
    "print(\"This is the second set\")\n",
    "print(setTwo)"
   ]
  },
  {
   "cell_type": "markdown",
   "id": "817c6cf7",
   "metadata": {},
   "source": [
    "It is easiest to prefrom the T-test using Sci-Py's t-test function."
   ]
  },
  {
   "cell_type": "code",
   "execution_count": 11,
   "id": "d3efd373",
   "metadata": {},
   "outputs": [
    {
     "data": {
      "text/plain": [
       "Ttest_indResult(statistic=-0.6851489991021901, pvalue=0.5088194974869784)"
      ]
     },
     "execution_count": 11,
     "metadata": {},
     "output_type": "execute_result"
    }
   ],
   "source": [
    "import scipy.stats as stats\n",
    "\n",
    "stats.ttest_ind(setOne, setTwo)"
   ]
  },
  {
   "cell_type": "markdown",
   "id": "86989d91",
   "metadata": {},
   "source": [
    "### Understanding the output\n",
    "\n",
    "The first value labeled as the statistic is the computed t-statistic of the test.\n",
    "\n",
    "The second value labeled as pvalue is a statistical measurement used to validate a hypothesis against observed data. The lower it is the more statistically significant your t-statistic."
   ]
  }
 ],
 "metadata": {
  "kernelspec": {
   "display_name": "Python 3 (ipykernel)",
   "language": "python",
   "name": "python3"
  },
  "language_info": {
   "codemirror_mode": {
    "name": "ipython",
    "version": 3
   },
   "file_extension": ".py",
   "mimetype": "text/x-python",
   "name": "python",
   "nbconvert_exporter": "python",
   "pygments_lexer": "ipython3",
   "version": "3.11.4"
  }
 },
 "nbformat": 4,
 "nbformat_minor": 5
}
